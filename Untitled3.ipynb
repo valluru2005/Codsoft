{
  "nbformat": 4,
  "nbformat_minor": 0,
  "metadata": {
    "colab": {
      "provenance": []
    },
    "kernelspec": {
      "name": "python3",
      "display_name": "Python 3"
    },
    "language_info": {
      "name": "python"
    }
  },
  "cells": [
    {
      "cell_type": "code",
      "execution_count": null,
      "metadata": {
        "colab": {
          "base_uri": "https://localhost:8080/"
        },
        "id": "hkD5Sfql-fXx",
        "outputId": "077970a1-0ebf-45e4-948a-a75771795093"
      },
      "outputs": [
        {
          "output_type": "stream",
          "name": "stdout",
          "text": [
            "\n",
            "Enter your choice (rock, paper, or scissors): rock\n",
            "\n",
            "You chose: rock\n",
            "Computer chose: paper\n",
            "You lose!\n",
            "\n",
            "Score: You 0 - Computer 1\n",
            "\n",
            "Do you want to play another round? (yes/no): yes\n",
            "\n",
            "Enter your choice (rock, paper, or scissors): scissors\n",
            "\n",
            "You chose: scissors\n",
            "Computer chose: rock\n",
            "You lose!\n",
            "\n",
            "Score: You 0 - Computer 2\n",
            "\n",
            "Do you want to play another round? (yes/no): yes\n",
            "\n",
            "Enter your choice (rock, paper, or scissors): rock\n",
            "\n",
            "You chose: rock\n",
            "Computer chose: scissors\n",
            "You win!\n",
            "\n",
            "Score: You 1 - Computer 2\n"
          ]
        }
      ],
      "source": [
        "import random\n",
        "\n",
        "def get_computer_choice():\n",
        "    choices = ['rock', 'paper', 'scissors']\n",
        "    return random.choice(choices)\n",
        "\n",
        "def determine_winner(user_choice, computer_choice):\n",
        "    if user_choice == computer_choice:\n",
        "        return 'tie'\n",
        "    elif (user_choice == 'rock' and computer_choice == 'scissors') or \\\n",
        "         (user_choice == 'scissors' and computer_choice == 'paper') or \\\n",
        "         (user_choice == 'paper' and computer_choice == 'rock'):\n",
        "        return 'user'\n",
        "    else:\n",
        "        return 'computer'\n",
        "\n",
        "def display_result(user_choice, computer_choice, winner):\n",
        "    print(f\"\\nYou chose: {user_choice}\")\n",
        "    print(f\"Computer chose: {computer_choice}\")\n",
        "\n",
        "    if winner == 'tie':\n",
        "        print(\"It's a tie!\")\n",
        "    elif winner == 'user':\n",
        "        print(\"You win!\")\n",
        "    else:\n",
        "        print(\"You lose!\")\n",
        "\n",
        "def main():\n",
        "    user_score = 0\n",
        "    computer_score = 0\n",
        "\n",
        "    while True:\n",
        "        user_choice = input(\"\\nEnter your choice (rock, paper, or scissors): \").lower()\n",
        "        if user_choice not in ['rock', 'paper', 'scissors']:\n",
        "            print(\"Invalid choice! Please choose rock, paper, or scissors.\")\n",
        "            continue\n",
        "\n",
        "        computer_choice = get_computer_choice()\n",
        "        winner = determine_winner(user_choice, computer_choice)\n",
        "\n",
        "        display_result(user_choice, computer_choice, winner)\n",
        "\n",
        "        if winner == 'user':\n",
        "            user_score += 1\n",
        "        elif winner == 'computer':\n",
        "            computer_score += 1\n",
        "\n",
        "        print(f\"\\nScore: You {user_score} - Computer {computer_score}\")\n",
        "\n",
        "        play_again = input(\"\\nDo you want to play another round? (yes/no): \").lower()\n",
        "        if play_again != 'yes':\n",
        "            break\n",
        "\n",
        "    print(\"\\nThank you for playing! Final score:\")\n",
        "    print(f\"You: {user_score} - Computer: {computer_score}\")\n",
        "\n",
        "# Run the main function\n",
        "if __name__ == \"__main__\":\n",
        "    main()\n"
      ]
    }
  ]
}