{
  "nbformat": 4,
  "nbformat_minor": 0,
  "metadata": {
    "colab": {
      "provenance": []
    },
    "kernelspec": {
      "name": "python3",
      "display_name": "Python 3"
    },
    "language_info": {
      "name": "python"
    }
  },
  "cells": [
    {
      "cell_type": "code",
      "execution_count": 1,
      "metadata": {
        "colab": {
          "base_uri": "https://localhost:8080/"
        },
        "id": "6qO3vtf59y6u",
        "outputId": "c7b88dc0-c4dd-4cd1-ecd8-acb3ed3b0826"
      },
      "outputs": [
        {
          "output_type": "stream",
          "name": "stdout",
          "text": [
            "Enter the desired length of the password: 8\n",
            "Generated password: [4@u2.Ks\n"
          ]
        }
      ],
      "source": [
        "import random\n",
        "import string\n",
        "\n",
        "def generate_password(length):\n",
        "    # Define the character sets to include in the password\n",
        "    lower = string.ascii_lowercase\n",
        "    upper = string.ascii_uppercase\n",
        "    digits = string.digits\n",
        "    special = string.punctuation\n",
        "\n",
        "    # Combine all character sets\n",
        "    all_chars = lower + upper + digits + special\n",
        "\n",
        "    # Ensure the password includes at least one character from each set\n",
        "    password = [\n",
        "        random.choice(lower),\n",
        "        random.choice(upper),\n",
        "        random.choice(digits),\n",
        "        random.choice(special)\n",
        "    ]\n",
        "\n",
        "    # Fill the rest of the password length with random characters from the combined set\n",
        "    password += random.choices(all_chars, k=length - 4)\n",
        "\n",
        "    # Shuffle the password list to ensure randomness\n",
        "    random.shuffle(password)\n",
        "\n",
        "    # Convert the list to a string and return\n",
        "    return ''.join(password)\n",
        "\n",
        "def main():\n",
        "    # Prompt the user to specify the desired length of the password\n",
        "    try:\n",
        "        length = int(input(\"Enter the desired length of the password: \"))\n",
        "        if length < 4:\n",
        "            print(\"Password length should be at least 4 characters to ensure complexity.\")\n",
        "            return\n",
        "    except ValueError:\n",
        "        print(\"Invalid input! Please enter a numeric value.\")\n",
        "        return\n",
        "\n",
        "    # Generate the password\n",
        "    password = generate_password(length)\n",
        "\n",
        "    # Display the generated password\n",
        "    print(f\"Generated password: {password}\")\n",
        "\n",
        "# Run the main function\n",
        "if __name__ == \"__main__\":\n",
        "    main()\n"
      ]
    }
  ]
}