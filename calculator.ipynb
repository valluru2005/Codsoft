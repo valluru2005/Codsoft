{
  "nbformat": 4,
  "nbformat_minor": 0,
  "metadata": {
    "colab": {
      "provenance": []
    },
    "kernelspec": {
      "name": "python3",
      "display_name": "Python 3"
    },
    "language_info": {
      "name": "python"
    }
  },
  "cells": [
    {
      "cell_type": "code",
      "execution_count": null,
      "metadata": {
        "colab": {
          "base_uri": "https://localhost:8080/"
        },
        "id": "h1UB2-B08fdQ",
        "outputId": "cef0c5b8-5e10-46c3-ae0c-5daa9b138190"
      },
      "outputs": [
        {
          "output_type": "stream",
          "name": "stdout",
          "text": [
            "Welcome to the simple calculator!\n"
          ]
        }
      ],
      "source": [
        "def calculator():\n",
        "    print(\"Welcome to the simple calculator!\")\n",
        "\n",
        "    # Prompt the user to input two numbers\n",
        "    try:\n",
        "        num1 = float(input(\"Enter the first number: \"))\n",
        "        num2 = float(input(\"Enter the second number: \"))\n",
        "    except ValueError:\n",
        "        print(\"Invalid input! Please enter numeric values.\")\n",
        "        return\n",
        "\n",
        "    # Display the operation choices\n",
        "    print(\"Choose the operation:\")\n",
        "    print(\"1. Addition\")\n",
        "    print(\"2. Subtraction\")\n",
        "    print(\"3. Multiplication\")\n",
        "    print(\"4. Division\")\n",
        "\n",
        "    # Get the user's operation choice\n",
        "    choice = input(\"Enter the operation choice (1/2/3/4): \")\n",
        "\n",
        "    # Perform the calculation and display the result\n",
        "    if choice == '1':\n",
        "        result = num1 + num2\n",
        "        print(f\"The result of addition: {result}\")\n",
        "    elif choice == '2':\n",
        "        result = num1 - num2\n",
        "        print(f\"The result of subtraction: {result}\")\n",
        "    elif choice == '3':\n",
        "        result = num1 * num2\n",
        "        print(f\"The result of multiplication: {result}\")\n",
        "    elif choice == '4':\n",
        "        if num2 != 0:\n",
        "            result = num1 / num2\n",
        "            print(f\"The result of division: {result}\")\n",
        "        else:\n",
        "            print(\"Error! Division by zero.\")\n",
        "    else:\n",
        "        print(\"Invalid operation choice!\")\n",
        "\n",
        "# Run the calculator function\n",
        "calculator()\n"
      ]
    },
    {
      "cell_type": "code",
      "source": [],
      "metadata": {
        "id": "-Q-5khdr8sS0"
      },
      "execution_count": null,
      "outputs": []
    }
  ]
}